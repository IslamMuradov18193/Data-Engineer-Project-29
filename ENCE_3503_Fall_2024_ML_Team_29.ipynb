{
  "cells": [
    {
      "cell_type": "code",
      "execution_count": 22,
      "metadata": {
        "id": "Jci-NaPtMOsC"
      },
      "outputs": [],
      "source": [
        "import pandas as pd\n",
        "from sklearn.model_selection import train_test_split\n",
        "from sklearn.preprocessing import LabelEncoder\n",
        "from sklearn.metrics import classification_report, accuracy_score\n",
        "from sklearn.ensemble import RandomForestClassifier\n",
        "from sklearn.pipeline import Pipeline\n",
        "from sklearn.compose import ColumnTransformer\n",
        "from sklearn.impute import SimpleImputer\n",
        "from sklearn.preprocessing import StandardScaler\n"
      ]
    },
    {
      "cell_type": "code",
      "execution_count": 23,
      "metadata": {
        "id": "nGKgMownhl6V"
      },
      "outputs": [],
      "source": [
        "df = pd.read_csv('data/processed_data_team_29.csv')"
      ]
    },
    {
      "cell_type": "markdown",
      "metadata": {
        "id": "mAY-isgwr-8e"
      },
      "source": [
        "We imported our dataframe and all the needed libraries. Now it is time to preprocess the data"
      ]
    },
    {
      "cell_type": "code",
      "execution_count": 24,
      "metadata": {
        "id": "j5Kt0Lp4oCxu"
      },
      "outputs": [],
      "source": [
        "\n",
        "# Threshold\n",
        "threshold = 3.5 \n",
        "df['rating_class'] = (df['rating'] > threshold).astype(int)\n",
        "X = df.drop(columns=['name', 'rating', 'rating_class'])  # Drop non-feature columns\n",
        "y = df['rating_class']  # Target variable (higher or lower)\n"
      ]
    },
    {
      "cell_type": "code",
      "execution_count": 25,
      "metadata": {
        "colab": {
          "base_uri": "https://localhost:8080/"
        },
        "id": "ap_LakPot3e-",
        "outputId": "7c7be681-fcf0-419b-8e49-14548e1a2f33"
      },
      "outputs": [],
      "source": [
        "\n",
        "# Encoding the 'types' column\n",
        "label_encoder = LabelEncoder()\n",
        "X['types'] = label_encoder.fit_transform(X['types'])\n",
        "\n",
        "# Encoding the 'has_website' column \n",
        "X['has_website'] = X['has_website'].astype(int)  # Convert boolean to 0 and 1\n"
      ]
    },
    {
      "cell_type": "code",
      "execution_count": 26,
      "metadata": {
        "id": "N9sQJ4nqo5Og"
      },
      "outputs": [],
      "source": [
        "\n",
        "# Splitting data into train and test sets\n",
        "X_train, X_test, y_train, y_test = train_test_split(X, y, test_size=0.2, random_state=42)\n"
      ]
    },
    {
      "cell_type": "code",
      "execution_count": 27,
      "metadata": {
        "colab": {
          "base_uri": "https://localhost:8080/"
        },
        "id": "YycIjLuBpAt1",
        "outputId": "12a78e4c-b740-4087-91fb-7a92c6f7bb31"
      },
      "outputs": [],
      "source": [
        "\n",
        "# Creating a column transformer for preprocessing\n",
        "preprocessor = ColumnTransformer(\n",
        "    transformers=[\n",
        "        ('num', StandardScaler(), ['price_level', 'latitude', 'longitude']),  # Scaling numerical columns\n",
        "        ('cat', Pipeline([\n",
        "            ('imputer', SimpleImputer(strategy='most_frequent')),  # Imputing missing values\n",
        "            ('scaler', StandardScaler())  # Scaling categorical features (after encoding)\n",
        "        ]), ['types', 'has_website'])  # Including has_website as a feature\n",
        "    ])\n"
      ]
    },
    {
      "cell_type": "code",
      "execution_count": 28,
      "metadata": {
        "id": "6FAqc3L-pqzm"
      },
      "outputs": [],
      "source": [
        "\n",
        "# Create a pipeline with the preprocessor and Random Forest classifier\n",
        "pipeline = Pipeline(steps=[\n",
        "    ('preprocessor', preprocessor),\n",
        "    ('classifier', RandomForestClassifier(n_estimators=100, random_state=42))\n",
        "])\n"
      ]
    },
    {
      "cell_type": "code",
      "execution_count": 29,
      "metadata": {
        "colab": {
          "base_uri": "https://localhost:8080/"
        },
        "id": "1wlhDdHlp-R1",
        "outputId": "b8524fcc-f0c4-4ca3-ea6b-66cea01b84c7"
      },
      "outputs": [],
      "source": [
        "\n",
        "# Training the model\n",
        "pipeline.fit(X_train, y_train)\n",
        "\n",
        "# Predict on the test set\n",
        "y_pred = pipeline.predict(X_test)\n",
        "\n"
      ]
    },
    {
      "cell_type": "markdown",
      "metadata": {
        "id": "_Pxbd0ZCwel_"
      },
      "source": [
        "We finished preprocessing the data. Now it is time to create the model."
      ]
    },
    {
      "cell_type": "code",
      "execution_count": 30,
      "metadata": {
        "id": "HvZ1aTOQGMHt"
      },
      "outputs": [
        {
          "name": "stdout",
          "output_type": "stream",
          "text": [
            "Classification Report:\n",
            "              precision    recall  f1-score   support\n",
            "\n",
            "           0       0.22      0.15      0.18        13\n",
            "           1       0.92      0.95      0.93       133\n",
            "\n",
            "    accuracy                           0.88       146\n",
            "   macro avg       0.57      0.55      0.56       146\n",
            "weighted avg       0.86      0.88      0.87       146\n",
            "\n",
            "Accuracy: 0.8767\n"
          ]
        }
      ],
      "source": [
        "\n",
        "# Calculate classification metrics\n",
        "print(\"Classification Report:\")\n",
        "print(classification_report(y_test, y_pred))\n",
        "\n",
        "# Calculate accuracy score\n",
        "print(f\"Accuracy: {accuracy:.4f}\")\n",
        "accuracy = accuracy_score(y_test, y_pred)"
      ]
    }
  ],
  "metadata": {
    "colab": {
      "provenance": []
    },
    "kernelspec": {
      "display_name": "Python 3",
      "name": "python3"
    },
    "language_info": {
      "codemirror_mode": {
        "name": "ipython",
        "version": 3
      },
      "file_extension": ".py",
      "mimetype": "text/x-python",
      "name": "python",
      "nbconvert_exporter": "python",
      "pygments_lexer": "ipython3",
      "version": "3.12.6"
    }
  },
  "nbformat": 4,
  "nbformat_minor": 0
}
